{
 "cells": [
  {
   "cell_type": "code",
   "execution_count": 7,
   "metadata": {},
   "outputs": [],
   "source": [
    "from nltk.tag import StanfordNERTagger\n",
    "from nltk.tokenize import word_tokenize\n",
    "\n",
    "# Change the path according to your system\n",
    "stanford_classifier = r\"H:\\Jupyter\\Learning NLP\\Named entity recognition\\stanform\\stanford-ner-2018-02-27\\classifiers\\english.all.3class.distsim.crf.ser.gz\"   \n",
    "stanford_ner_path = r\"H:\\Jupyter\\Learning NLP\\Named entity recognition\\stanform\\stanford-ner-2018-02-27\\stanford-ner.jar\"\n",
    "\n",
    "# Creating Tagger Object\n",
    "st = StanfordNERTagger(stanford_classifier, stanford_ner_path)\n",
    "\n",
    "text = 'While in France, Christine Lagarde discussed short-term stimulus efforts in a recent interview with the Wall Street Journal.'\n",
    "\n",
    "tokenized_text = word_tokenize(text)\n",
    "classified_text = st.tag(tokenized_text)\n",
    "\n",
    "result = classified_text"
   ]
  },
  {
   "cell_type": "code",
   "execution_count": 8,
   "metadata": {},
   "outputs": [
    {
     "data": {
      "text/plain": [
       "[('While', 'O'),\n",
       " ('in', 'O'),\n",
       " ('France', 'LOCATION'),\n",
       " (',', 'O'),\n",
       " ('Christine', 'PERSON'),\n",
       " ('Lagarde', 'PERSON'),\n",
       " ('discussed', 'O'),\n",
       " ('short-term', 'O'),\n",
       " ('stimulus', 'O'),\n",
       " ('efforts', 'O'),\n",
       " ('in', 'O'),\n",
       " ('a', 'O'),\n",
       " ('recent', 'O'),\n",
       " ('interview', 'O'),\n",
       " ('with', 'O'),\n",
       " ('the', 'O'),\n",
       " ('Wall', 'ORGANIZATION'),\n",
       " ('Street', 'ORGANIZATION'),\n",
       " ('Journal', 'ORGANIZATION'),\n",
       " ('.', 'O')]"
      ]
     },
     "execution_count": 8,
     "metadata": {},
     "output_type": "execute_result"
    }
   ],
   "source": [
    "result"
   ]
  },
  {
   "cell_type": "code",
   "execution_count": 9,
   "metadata": {},
   "outputs": [
    {
     "data": {
      "text/plain": [
       "list"
      ]
     },
     "execution_count": 9,
     "metadata": {},
     "output_type": "execute_result"
    }
   ],
   "source": [
    "type(result)"
   ]
  },
  {
   "cell_type": "code",
   "execution_count": null,
   "metadata": {
    "collapsed": true
   },
   "outputs": [],
   "source": []
  }
 ],
 "metadata": {
  "kernelspec": {
   "display_name": "Python 3",
   "language": "python",
   "name": "python3"
  },
  "language_info": {
   "codemirror_mode": {
    "name": "ipython",
    "version": 3
   },
   "file_extension": ".py",
   "mimetype": "text/x-python",
   "name": "python",
   "nbconvert_exporter": "python",
   "pygments_lexer": "ipython3",
   "version": "3.6.6"
  }
 },
 "nbformat": 4,
 "nbformat_minor": 2
}
